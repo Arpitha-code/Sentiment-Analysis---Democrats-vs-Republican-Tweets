{
 "cells": [
  {
   "cell_type": "code",
   "execution_count": 1,
   "metadata": {},
   "outputs": [],
   "source": [
    "import pandas as pd\n",
    "from wordcloud import STOPWORDS"
   ]
  },
  {
   "cell_type": "code",
   "execution_count": 2,
   "metadata": {},
   "outputs": [],
   "source": [
    "#add some unnecessary words to STOPWORDS list\n",
    "STOPWORDS.add(\"rt\")\n",
    "STOPWORDS.add(\"s\")\n",
    "STOPWORDS.add(\"u\")\n",
    "STOPWORDS.add(\"amp\")\n",
    "STOPWORDS.add(\"th\")\n",
    "STOPWORDS.add(\"will\")\n",
    "STOPWORDS.add(\"t\")\n",
    "STOPWORDS.add(\"m\")\n",
    "STOPWORDS.add(\"ha\")\n",
    "STOPWORDS.add(\"wa\")\n",
    "STOPWORDS.add(\"today\")"
   ]
  },
  {
   "cell_type": "code",
   "execution_count": 3,
   "metadata": {},
   "outputs": [],
   "source": [
    "#read the cleaned data from pickle file\n",
    "df=pd.read_pickle(\"corpus.pkl\")"
   ]
  },
  {
   "cell_type": "code",
   "execution_count": 4,
   "metadata": {},
   "outputs": [],
   "source": [
    "#necessary package to split the data into test and train split\n",
    "from sklearn.model_selection import train_test_split"
   ]
  },
  {
   "cell_type": "code",
   "execution_count": 5,
   "metadata": {},
   "outputs": [
    {
     "data": {
      "text/plain": [
       "((60521, 5), (25938, 5))"
      ]
     },
     "execution_count": 5,
     "metadata": {},
     "output_type": "execute_result"
    }
   ],
   "source": [
    "#spliting the data\n",
    "train, test = train_test_split(df, test_size=0.3, train_size=0.7, random_state=14)\n",
    "train.shape, test.shape"
   ]
  },
  {
   "cell_type": "code",
   "execution_count": 6,
   "metadata": {},
   "outputs": [],
   "source": [
    "#from sklearn.feature_extraction.text import TfidfVectorizer\n",
    "from sklearn.feature_extraction.text import TfidfVectorizer\n",
    "from nltk.stem.lancaster import LancasterStemmer\n",
    "import nltk"
   ]
  },
  {
   "cell_type": "code",
   "execution_count": 7,
   "metadata": {},
   "outputs": [],
   "source": [
    "#performing stemming\n",
    "st = LancasterStemmer()\n",
    "def token(text):\n",
    "    txt = nltk.word_tokenize(text.lower())\n",
    "    return [st.stem(word) for word in txt]"
   ]
  },
  {
   "cell_type": "code",
   "execution_count": 8,
   "metadata": {},
   "outputs": [
    {
     "name": "stderr",
     "output_type": "stream",
     "text": [
      "C:\\ProgramData\\Anaconda3\\lib\\site-packages\\sklearn\\feature_extraction\\text.py:383: UserWarning: Your stop_words may be inconsistent with your preprocessing. Tokenizing the stop words generated tokens [\"'d\", \"'ll\", \"'m\", \"'re\", \"'s\", \"'ve\", 'abov', 'aft', 'al', 'ar', 'becaus', 'bef', 'ca', 'doe', 'dur', 'els', 'ev', 'furth', 'hav', 'hent', 'howev', 'let', 'lik', 'mor', 'must', \"n't\", 'ont', 'oth', 'otherw', 'ourselv', 'ov', 'sam', 'sha', 'shal', 'sint', 'som', 'themselv', 'ther', 'theref', 'thes', 'thi', 'thos', 'und', 'wer', 'wher', 'whil', 'wil', 'wo', 'yo', 'yourselv'] not in stop_words.\n",
      "  warnings.warn('Your stop_words may be inconsistent with '\n"
     ]
    },
    {
     "name": "stdout",
     "output_type": "stream",
     "text": [
      "(60521, 8830)\n"
     ]
    }
   ],
   "source": [
    "#document term matrix for the tweets\n",
    "tfv = TfidfVectorizer(tokenizer=token,stop_words=STOPWORDS,\n",
    "                     analyzer=u'word', min_df=4,norm='l2',use_idf=True)\n",
    "X_train_tfv = tfv.fit_transform(train['clean_tweet']) # fit_transform learns the vocab and one-hot encodes\n",
    "X_test_tfv = tfv.transform(test['clean_tweet']) # transform uses the same vocab and one-hot encodes\n",
    "# print the dimensions of the training set (text messages, terms)\n",
    "print(X_train_tfv.shape)"
   ]
  },
  {
   "cell_type": "code",
   "execution_count": 9,
   "metadata": {},
   "outputs": [],
   "source": [
    "X_train_tfv = pd.DataFrame(X_train_tfv.toarray(), columns=tfv.get_feature_names())\n",
    "X_test_tfv = pd.DataFrame(X_test_tfv.toarray(), columns=tfv.get_feature_names())\n",
    "Y_train = train['Party_log']\n",
    "Y_test = test['Party_log']"
   ]
  },
  {
   "cell_type": "code",
   "execution_count": 10,
   "metadata": {},
   "outputs": [
    {
     "data": {
      "text/html": [
       "<div>\n",
       "<style scoped>\n",
       "    .dataframe tbody tr th:only-of-type {\n",
       "        vertical-align: middle;\n",
       "    }\n",
       "\n",
       "    .dataframe tbody tr th {\n",
       "        vertical-align: top;\n",
       "    }\n",
       "\n",
       "    .dataframe thead th {\n",
       "        text-align: right;\n",
       "    }\n",
       "</style>\n",
       "<table border=\"1\" class=\"dataframe\">\n",
       "  <thead>\n",
       "    <tr style=\"text-align: right;\">\n",
       "      <th></th>\n",
       "      <th>aaas</th>\n",
       "      <th>aaf</th>\n",
       "      <th>aajc</th>\n",
       "      <th>aan</th>\n",
       "      <th>aap</th>\n",
       "      <th>aapiequalpay</th>\n",
       "      <th>aapiheritagemon</th>\n",
       "      <th>aaron</th>\n",
       "      <th>aarp</th>\n",
       "      <th>aarpadvoc</th>\n",
       "      <th>...</th>\n",
       "      <th>zink</th>\n",
       "      <th>zion</th>\n",
       "      <th>zip</th>\n",
       "      <th>zoe</th>\n",
       "      <th>zon</th>\n",
       "      <th>zte</th>\n",
       "      <th>zuckerb</th>\n",
       "      <th>zuckerberg</th>\n",
       "      <th>zuckerberghear</th>\n",
       "      <th>zulu</th>\n",
       "    </tr>\n",
       "  </thead>\n",
       "  <tbody>\n",
       "    <tr>\n",
       "      <th>0</th>\n",
       "      <td>0.0</td>\n",
       "      <td>0.0</td>\n",
       "      <td>0.0</td>\n",
       "      <td>0.0</td>\n",
       "      <td>0.0</td>\n",
       "      <td>0.0</td>\n",
       "      <td>0.0</td>\n",
       "      <td>0.0</td>\n",
       "      <td>0.0</td>\n",
       "      <td>0.0</td>\n",
       "      <td>...</td>\n",
       "      <td>0.0</td>\n",
       "      <td>0.0</td>\n",
       "      <td>0.0</td>\n",
       "      <td>0.0</td>\n",
       "      <td>0.0</td>\n",
       "      <td>0.0</td>\n",
       "      <td>0.0</td>\n",
       "      <td>0.0</td>\n",
       "      <td>0.0</td>\n",
       "      <td>0.0</td>\n",
       "    </tr>\n",
       "    <tr>\n",
       "      <th>1</th>\n",
       "      <td>0.0</td>\n",
       "      <td>0.0</td>\n",
       "      <td>0.0</td>\n",
       "      <td>0.0</td>\n",
       "      <td>0.0</td>\n",
       "      <td>0.0</td>\n",
       "      <td>0.0</td>\n",
       "      <td>0.0</td>\n",
       "      <td>0.0</td>\n",
       "      <td>0.0</td>\n",
       "      <td>...</td>\n",
       "      <td>0.0</td>\n",
       "      <td>0.0</td>\n",
       "      <td>0.0</td>\n",
       "      <td>0.0</td>\n",
       "      <td>0.0</td>\n",
       "      <td>0.0</td>\n",
       "      <td>0.0</td>\n",
       "      <td>0.0</td>\n",
       "      <td>0.0</td>\n",
       "      <td>0.0</td>\n",
       "    </tr>\n",
       "    <tr>\n",
       "      <th>2</th>\n",
       "      <td>0.0</td>\n",
       "      <td>0.0</td>\n",
       "      <td>0.0</td>\n",
       "      <td>0.0</td>\n",
       "      <td>0.0</td>\n",
       "      <td>0.0</td>\n",
       "      <td>0.0</td>\n",
       "      <td>0.0</td>\n",
       "      <td>0.0</td>\n",
       "      <td>0.0</td>\n",
       "      <td>...</td>\n",
       "      <td>0.0</td>\n",
       "      <td>0.0</td>\n",
       "      <td>0.0</td>\n",
       "      <td>0.0</td>\n",
       "      <td>0.0</td>\n",
       "      <td>0.0</td>\n",
       "      <td>0.0</td>\n",
       "      <td>0.0</td>\n",
       "      <td>0.0</td>\n",
       "      <td>0.0</td>\n",
       "    </tr>\n",
       "    <tr>\n",
       "      <th>3</th>\n",
       "      <td>0.0</td>\n",
       "      <td>0.0</td>\n",
       "      <td>0.0</td>\n",
       "      <td>0.0</td>\n",
       "      <td>0.0</td>\n",
       "      <td>0.0</td>\n",
       "      <td>0.0</td>\n",
       "      <td>0.0</td>\n",
       "      <td>0.0</td>\n",
       "      <td>0.0</td>\n",
       "      <td>...</td>\n",
       "      <td>0.0</td>\n",
       "      <td>0.0</td>\n",
       "      <td>0.0</td>\n",
       "      <td>0.0</td>\n",
       "      <td>0.0</td>\n",
       "      <td>0.0</td>\n",
       "      <td>0.0</td>\n",
       "      <td>0.0</td>\n",
       "      <td>0.0</td>\n",
       "      <td>0.0</td>\n",
       "    </tr>\n",
       "    <tr>\n",
       "      <th>4</th>\n",
       "      <td>0.0</td>\n",
       "      <td>0.0</td>\n",
       "      <td>0.0</td>\n",
       "      <td>0.0</td>\n",
       "      <td>0.0</td>\n",
       "      <td>0.0</td>\n",
       "      <td>0.0</td>\n",
       "      <td>0.0</td>\n",
       "      <td>0.0</td>\n",
       "      <td>0.0</td>\n",
       "      <td>...</td>\n",
       "      <td>0.0</td>\n",
       "      <td>0.0</td>\n",
       "      <td>0.0</td>\n",
       "      <td>0.0</td>\n",
       "      <td>0.0</td>\n",
       "      <td>0.0</td>\n",
       "      <td>0.0</td>\n",
       "      <td>0.0</td>\n",
       "      <td>0.0</td>\n",
       "      <td>0.0</td>\n",
       "    </tr>\n",
       "    <tr>\n",
       "      <th>...</th>\n",
       "      <td>...</td>\n",
       "      <td>...</td>\n",
       "      <td>...</td>\n",
       "      <td>...</td>\n",
       "      <td>...</td>\n",
       "      <td>...</td>\n",
       "      <td>...</td>\n",
       "      <td>...</td>\n",
       "      <td>...</td>\n",
       "      <td>...</td>\n",
       "      <td>...</td>\n",
       "      <td>...</td>\n",
       "      <td>...</td>\n",
       "      <td>...</td>\n",
       "      <td>...</td>\n",
       "      <td>...</td>\n",
       "      <td>...</td>\n",
       "      <td>...</td>\n",
       "      <td>...</td>\n",
       "      <td>...</td>\n",
       "      <td>...</td>\n",
       "    </tr>\n",
       "    <tr>\n",
       "      <th>60516</th>\n",
       "      <td>0.0</td>\n",
       "      <td>0.0</td>\n",
       "      <td>0.0</td>\n",
       "      <td>0.0</td>\n",
       "      <td>0.0</td>\n",
       "      <td>0.0</td>\n",
       "      <td>0.0</td>\n",
       "      <td>0.0</td>\n",
       "      <td>0.0</td>\n",
       "      <td>0.0</td>\n",
       "      <td>...</td>\n",
       "      <td>0.0</td>\n",
       "      <td>0.0</td>\n",
       "      <td>0.0</td>\n",
       "      <td>0.0</td>\n",
       "      <td>0.0</td>\n",
       "      <td>0.0</td>\n",
       "      <td>0.0</td>\n",
       "      <td>0.0</td>\n",
       "      <td>0.0</td>\n",
       "      <td>0.0</td>\n",
       "    </tr>\n",
       "    <tr>\n",
       "      <th>60517</th>\n",
       "      <td>0.0</td>\n",
       "      <td>0.0</td>\n",
       "      <td>0.0</td>\n",
       "      <td>0.0</td>\n",
       "      <td>0.0</td>\n",
       "      <td>0.0</td>\n",
       "      <td>0.0</td>\n",
       "      <td>0.0</td>\n",
       "      <td>0.0</td>\n",
       "      <td>0.0</td>\n",
       "      <td>...</td>\n",
       "      <td>0.0</td>\n",
       "      <td>0.0</td>\n",
       "      <td>0.0</td>\n",
       "      <td>0.0</td>\n",
       "      <td>0.0</td>\n",
       "      <td>0.0</td>\n",
       "      <td>0.0</td>\n",
       "      <td>0.0</td>\n",
       "      <td>0.0</td>\n",
       "      <td>0.0</td>\n",
       "    </tr>\n",
       "    <tr>\n",
       "      <th>60518</th>\n",
       "      <td>0.0</td>\n",
       "      <td>0.0</td>\n",
       "      <td>0.0</td>\n",
       "      <td>0.0</td>\n",
       "      <td>0.0</td>\n",
       "      <td>0.0</td>\n",
       "      <td>0.0</td>\n",
       "      <td>0.0</td>\n",
       "      <td>0.0</td>\n",
       "      <td>0.0</td>\n",
       "      <td>...</td>\n",
       "      <td>0.0</td>\n",
       "      <td>0.0</td>\n",
       "      <td>0.0</td>\n",
       "      <td>0.0</td>\n",
       "      <td>0.0</td>\n",
       "      <td>0.0</td>\n",
       "      <td>0.0</td>\n",
       "      <td>0.0</td>\n",
       "      <td>0.0</td>\n",
       "      <td>0.0</td>\n",
       "    </tr>\n",
       "    <tr>\n",
       "      <th>60519</th>\n",
       "      <td>0.0</td>\n",
       "      <td>0.0</td>\n",
       "      <td>0.0</td>\n",
       "      <td>0.0</td>\n",
       "      <td>0.0</td>\n",
       "      <td>0.0</td>\n",
       "      <td>0.0</td>\n",
       "      <td>0.0</td>\n",
       "      <td>0.0</td>\n",
       "      <td>0.0</td>\n",
       "      <td>...</td>\n",
       "      <td>0.0</td>\n",
       "      <td>0.0</td>\n",
       "      <td>0.0</td>\n",
       "      <td>0.0</td>\n",
       "      <td>0.0</td>\n",
       "      <td>0.0</td>\n",
       "      <td>0.0</td>\n",
       "      <td>0.0</td>\n",
       "      <td>0.0</td>\n",
       "      <td>0.0</td>\n",
       "    </tr>\n",
       "    <tr>\n",
       "      <th>60520</th>\n",
       "      <td>0.0</td>\n",
       "      <td>0.0</td>\n",
       "      <td>0.0</td>\n",
       "      <td>0.0</td>\n",
       "      <td>0.0</td>\n",
       "      <td>0.0</td>\n",
       "      <td>0.0</td>\n",
       "      <td>0.0</td>\n",
       "      <td>0.0</td>\n",
       "      <td>0.0</td>\n",
       "      <td>...</td>\n",
       "      <td>0.0</td>\n",
       "      <td>0.0</td>\n",
       "      <td>0.0</td>\n",
       "      <td>0.0</td>\n",
       "      <td>0.0</td>\n",
       "      <td>0.0</td>\n",
       "      <td>0.0</td>\n",
       "      <td>0.0</td>\n",
       "      <td>0.0</td>\n",
       "      <td>0.0</td>\n",
       "    </tr>\n",
       "  </tbody>\n",
       "</table>\n",
       "<p>60521 rows × 8830 columns</p>\n",
       "</div>"
      ],
      "text/plain": [
       "       aaas  aaf  aajc  aan  aap  aapiequalpay  aapiheritagemon  aaron  aarp  \\\n",
       "0       0.0  0.0   0.0  0.0  0.0           0.0              0.0    0.0   0.0   \n",
       "1       0.0  0.0   0.0  0.0  0.0           0.0              0.0    0.0   0.0   \n",
       "2       0.0  0.0   0.0  0.0  0.0           0.0              0.0    0.0   0.0   \n",
       "3       0.0  0.0   0.0  0.0  0.0           0.0              0.0    0.0   0.0   \n",
       "4       0.0  0.0   0.0  0.0  0.0           0.0              0.0    0.0   0.0   \n",
       "...     ...  ...   ...  ...  ...           ...              ...    ...   ...   \n",
       "60516   0.0  0.0   0.0  0.0  0.0           0.0              0.0    0.0   0.0   \n",
       "60517   0.0  0.0   0.0  0.0  0.0           0.0              0.0    0.0   0.0   \n",
       "60518   0.0  0.0   0.0  0.0  0.0           0.0              0.0    0.0   0.0   \n",
       "60519   0.0  0.0   0.0  0.0  0.0           0.0              0.0    0.0   0.0   \n",
       "60520   0.0  0.0   0.0  0.0  0.0           0.0              0.0    0.0   0.0   \n",
       "\n",
       "       aarpadvoc  ...  zink  zion  zip  zoe  zon  zte  zuckerb  zuckerberg  \\\n",
       "0            0.0  ...   0.0   0.0  0.0  0.0  0.0  0.0      0.0         0.0   \n",
       "1            0.0  ...   0.0   0.0  0.0  0.0  0.0  0.0      0.0         0.0   \n",
       "2            0.0  ...   0.0   0.0  0.0  0.0  0.0  0.0      0.0         0.0   \n",
       "3            0.0  ...   0.0   0.0  0.0  0.0  0.0  0.0      0.0         0.0   \n",
       "4            0.0  ...   0.0   0.0  0.0  0.0  0.0  0.0      0.0         0.0   \n",
       "...          ...  ...   ...   ...  ...  ...  ...  ...      ...         ...   \n",
       "60516        0.0  ...   0.0   0.0  0.0  0.0  0.0  0.0      0.0         0.0   \n",
       "60517        0.0  ...   0.0   0.0  0.0  0.0  0.0  0.0      0.0         0.0   \n",
       "60518        0.0  ...   0.0   0.0  0.0  0.0  0.0  0.0      0.0         0.0   \n",
       "60519        0.0  ...   0.0   0.0  0.0  0.0  0.0  0.0      0.0         0.0   \n",
       "60520        0.0  ...   0.0   0.0  0.0  0.0  0.0  0.0      0.0         0.0   \n",
       "\n",
       "       zuckerberghear  zulu  \n",
       "0                 0.0   0.0  \n",
       "1                 0.0   0.0  \n",
       "2                 0.0   0.0  \n",
       "3                 0.0   0.0  \n",
       "4                 0.0   0.0  \n",
       "...               ...   ...  \n",
       "60516             0.0   0.0  \n",
       "60517             0.0   0.0  \n",
       "60518             0.0   0.0  \n",
       "60519             0.0   0.0  \n",
       "60520             0.0   0.0  \n",
       "\n",
       "[60521 rows x 8830 columns]"
      ]
     },
     "execution_count": 10,
     "metadata": {},
     "output_type": "execute_result"
    }
   ],
   "source": [
    "X_train_tfv"
   ]
  },
  {
   "cell_type": "code",
   "execution_count": 11,
   "metadata": {},
   "outputs": [],
   "source": [
    "#import the necessary packages for building the model\n",
    "from sklearn.ensemble import RandomForestClassifier\n",
    "from sklearn.naive_bayes import MultinomialNB\n",
    "from sklearn.linear_model import LogisticRegression\n",
    "from sklearn.ensemble import AdaBoostClassifier\n",
    "from sklearn.tree import DecisionTreeClassifier"
   ]
  },
  {
   "cell_type": "markdown",
   "metadata": {},
   "source": [
    "### Naive Bayes"
   ]
  },
  {
   "cell_type": "code",
   "execution_count": 20,
   "metadata": {},
   "outputs": [
    {
     "data": {
      "text/plain": [
       "array([0, 1, 1, ..., 0, 0, 1], dtype=int64)"
      ]
     },
     "execution_count": 20,
     "metadata": {},
     "output_type": "execute_result"
    }
   ],
   "source": [
    "#Naive Bayes\n",
    "nb = MultinomialNB()\n",
    "# Train the model\n",
    "nb.fit(X_train_tfv, train['Party_log'])\n",
    "# Take the model that was trained on the X_train_tfv data and apply it to the X_test_tfv data\n",
    "y_pred_tfv_nb = nb.predict(X_test_tfv)\n",
    "y_pred_tfv_nb"
   ]
  },
  {
   "cell_type": "code",
   "execution_count": 21,
   "metadata": {},
   "outputs": [
    {
     "data": {
      "text/plain": [
       "0.7846402960906778"
      ]
     },
     "execution_count": 21,
     "metadata": {},
     "output_type": "execute_result"
    }
   ],
   "source": [
    "accuracy_score(y_pred_tfv_nb, test['Party_log'])"
   ]
  },
  {
   "cell_type": "code",
   "execution_count": 23,
   "metadata": {},
   "outputs": [],
   "source": [
    "import matplotlib.pyplot as plt\n",
    "from pandas import Series\n",
    "import seaborn as sns"
   ]
  },
  {
   "cell_type": "code",
   "execution_count": 24,
   "metadata": {},
   "outputs": [
    {
     "name": "stdout",
     "output_type": "stream",
     "text": [
      "Accuracy: 0.785\n",
      "Precision: 0.799\n",
      "Recall: 0.744\n",
      "F1 Score: 0.771\n"
     ]
    },
    {
     "data": {
      "image/png": "[encoded data removed]",
      "text/plain": [
       "<Figure size 432x288 with 2 Axes>"
      ]
     },
     "metadata": {
      "needs_background": "light"
     },
     "output_type": "display_data"
    }
   ],
   "source": [
    "cm = confusion_matrix(test['Party_log'], y_pred_tfv_nb)\n",
    "sns.heatmap(cm, xticklabels=['predicted_pos', 'predicted_neg'], yticklabels=['actual_pos', 'actual_neg'], annot=True, fmt='d', annot_kws={'fontsize':20}, cmap=\"YlGnBu\");\n",
    "true_neg, false_pos = cm[0]\n",
    "false_neg, true_pos = cm[1]\n",
    "accuracy = round((true_pos + true_neg) / (true_pos + true_neg + false_pos + false_neg),3)\n",
    "precision = round((true_pos) / (true_pos + false_pos),3)\n",
    "recall = round((true_pos) / (true_pos + false_neg),3)\n",
    "f1 = round(2 * (precision * recall) / (precision + recall),3)\n",
    "print('Accuracy: {}'.format(accuracy))\n",
    "print('Precision: {}'.format(precision))\n",
    "print('Recall: {}'.format(recall))\n",
    "print('F1 Score: {}'.format(f1))"
   ]
  },
  {
   "cell_type": "markdown",
   "metadata": {},
   "source": [
    "### Logistic Regression"
   ]
  },
  {
   "cell_type": "code",
   "execution_count": 25,
   "metadata": {},
   "outputs": [
    {
     "data": {
      "text/plain": [
       "array([0, 1, 1, ..., 0, 0, 1], dtype=int64)"
      ]
     },
     "execution_count": 25,
     "metadata": {},
     "output_type": "execute_result"
    }
   ],
   "source": [
    "#Logistic regression model\n",
    "lr = LogisticRegression()\n",
    "# Train the model\n",
    "lr.fit(X_train_tfv,train['Party_log'])\n",
    "# Take the model that was trained on the X_train_tfv data and apply it to the X_test_tfv data\n",
    "y_pred_tfv_lr = lr.predict(X_test_tfv)\n",
    "y_pred_tfv_lr"
   ]
  },
  {
   "cell_type": "code",
   "execution_count": 27,
   "metadata": {},
   "outputs": [
    {
     "data": {
      "text/plain": [
       "0.7814789112499037"
      ]
     },
     "execution_count": 27,
     "metadata": {},
     "output_type": "execute_result"
    }
   ],
   "source": [
    "accuracy_score(y_pred_tfv_lr, test['Party_log'])"
   ]
  },
  {
   "cell_type": "code",
   "execution_count": 28,
   "metadata": {},
   "outputs": [
    {
     "name": "stdout",
     "output_type": "stream",
     "text": [
      "Accuracy: 0.781\n",
      "Precision: 0.781\n",
      "Recall: 0.764\n",
      "F1 Score: 0.772\n"
     ]
    },
    {
     "data": {
      "image/png": "[encoded data removed]",
      "text/plain": [
       "<Figure size 432x288 with 2 Axes>"
      ]
     },
     "metadata": {
      "needs_background": "light"
     },
     "output_type": "display_data"
    }
   ],
   "source": [
    "cm = confusion_matrix(test['Party_log'], y_pred_tfv_lr)\n",
    "sns.heatmap(cm, xticklabels=['predicted_pos', 'predicted_neg'], yticklabels=['actual_pos', 'actual_neg'], annot=True, fmt='d', annot_kws={'fontsize':20}, cmap=\"YlGnBu\");\n",
    "true_neg, false_pos = cm[0]\n",
    "false_neg, true_pos = cm[1]\n",
    "accuracy = round((true_pos + true_neg) / (true_pos + true_neg + false_pos + false_neg),3)\n",
    "precision = round((true_pos) / (true_pos + false_pos),3)\n",
    "recall = round((true_pos) / (true_pos + false_neg),3)\n",
    "f1 = round(2 * (precision * recall) / (precision + recall),3)\n",
    "print('Accuracy: {}'.format(accuracy))\n",
    "print('Precision: {}'.format(precision))\n",
    "print('Recall: {}'.format(recall))\n",
    "print('F1 Score: {}'.format(f1))"
   ]
  },
  {
   "cell_type": "markdown",
   "metadata": {},
   "source": [
    "### RandomForest"
   ]
  },
  {
   "cell_type": "code",
   "execution_count": 29,
   "metadata": {},
   "outputs": [],
   "source": [
    "#Random Forest Classification\n",
    "rfc = RandomForestClassifier(n_estimators=100, n_jobs=-1)\n",
    "rfc.fit(X_train_tfv,train['Party_log'])\n",
    "y_pred_tfv_rfc=rfc.predict(X_test_tfv)"
   ]
  },
  {
   "cell_type": "code",
   "execution_count": 30,
   "metadata": {},
   "outputs": [
    {
     "name": "stdout",
     "output_type": "stream",
     "text": [
      "Accuracy: 0.747\n",
      "Precision: 0.761\n",
      "Recall: 0.699\n",
      "F1 Score: 0.729\n"
     ]
    },
    {
     "data": {
      "image/png": "[encoded data removed]",
      "text/plain": [
       "<Figure size 432x288 with 2 Axes>"
      ]
     },
     "metadata": {
      "needs_background": "light"
     },
     "output_type": "display_data"
    }
   ],
   "source": [
    "cm = confusion_matrix(test['Party_log'], y_pred_tfv_rfc)\n",
    "sns.heatmap(cm, xticklabels=['predicted_pos', 'predicted_neg'], yticklabels=['actual_pos', 'actual_neg'], annot=True, fmt='d', annot_kws={'fontsize':20}, cmap=\"YlGnBu\");\n",
    "true_neg, false_pos = cm[0]\n",
    "false_neg, true_pos = cm[1]\n",
    "accuracy = round((true_pos + true_neg) / (true_pos + true_neg + false_pos + false_neg),3)\n",
    "precision = round((true_pos) / (true_pos + false_pos),3)\n",
    "recall = round((true_pos) / (true_pos + false_neg),3)\n",
    "f1 = round(2 * (precision * recall) / (precision + recall),3)\n",
    "print('Accuracy: {}'.format(accuracy))\n",
    "print('Precision: {}'.format(precision))\n",
    "print('Recall: {}'.format(recall))\n",
    "print('F1 Score: {}'.format(f1))"
   ]
  },
  {
   "cell_type": "markdown",
   "metadata": {},
   "source": [
    "### AdaBoost"
   ]
  },
  {
   "cell_type": "code",
   "execution_count": 31,
   "metadata": {},
   "outputs": [
    {
     "data": {
      "text/plain": [
       "0.636941938468656"
      ]
     },
     "execution_count": 31,
     "metadata": {},
     "output_type": "execute_result"
    }
   ],
   "source": [
    "#AdaBoost Classification\n",
    "ac = AdaBoostClassifier(n_estimators = 100)\n",
    "ac.fit(X_train_tfv, train['Party_log'])\n",
    "y_pred_tfv_ada = ac.predict(X_test_tfv)\n",
    "accuracy_score(y_pred_tfv_ada, test['Party_log'])"
   ]
  },
  {
   "cell_type": "code",
   "execution_count": 32,
   "metadata": {},
   "outputs": [
    {
     "name": "stdout",
     "output_type": "stream",
     "text": [
      "Accuracy: 0.637\n",
      "Precision: 0.588\n",
      "Recall: 0.845\n",
      "F1 Score: 0.693\n"
     ]
    },
    {
     "data": {
      "image/png": "[encoded data removed]",
      "text/plain": [
       "<Figure size 432x288 with 2 Axes>"
      ]
     },
     "metadata": {
      "needs_background": "light"
     },
     "output_type": "display_data"
    }
   ],
   "source": [
    "cm = confusion_matrix(test['Party_log'], y_pred_tfv_ada)\n",
    "sns.heatmap(cm, xticklabels=['predicted_pos', 'predicted_neg'], yticklabels=['actual_pos', 'actual_neg'], annot=True, fmt='d', annot_kws={'fontsize':20}, cmap=\"YlGnBu\");\n",
    "true_neg, false_pos = cm[0]\n",
    "false_neg, true_pos = cm[1]\n",
    "accuracy = round((true_pos + true_neg) / (true_pos + true_neg + false_pos + false_neg),3)\n",
    "precision = round((true_pos) / (true_pos + false_pos),3)\n",
    "recall = round((true_pos) / (true_pos + false_neg),3)\n",
    "f1 = round(2 * (precision * recall) / (precision + recall),3)\n",
    "print('Accuracy: {}'.format(accuracy))\n",
    "print('Precision: {}'.format(precision))\n",
    "print('Recall: {}'.format(recall))\n",
    "print('F1 Score: {}'.format(f1))"
   ]
  },
  {
   "cell_type": "markdown",
   "metadata": {},
   "source": [
    "### DecisionTrees\n"
   ]
  },
  {
   "cell_type": "code",
   "execution_count": 12,
   "metadata": {},
   "outputs": [],
   "source": [
    "#Decision Tree Classification\n",
    "dtc = DecisionTreeClassifier(random_state = 42, criterion='entropy', max_depth=30)\n",
    "dtc.fit(X_train_tfv, train['Party_log'])\n",
    "y_pred__tfv_dtc = dtc.predict(X_test_tfv)"
   ]
  },
  {
   "cell_type": "code",
   "execution_count": 15,
   "metadata": {},
   "outputs": [
    {
     "name": "stdout",
     "output_type": "stream",
     "text": [
      "Accuracy: 0.592\n",
      "Precision: 0.844\n",
      "Recall: 0.196\n",
      "F1 Score: 0.318\n"
     ]
    },
    {
     "data": {
      "image/png": "[encoded data removed]",
      "text/plain": [
       "<Figure size 432x288 with 2 Axes>"
      ]
     },
     "metadata": {
      "needs_background": "light"
     },
     "output_type": "display_data"
    }
   ],
   "source": [
    "cm = confusion_matrix(test['Party_log'], y_pred__tfv_dtc)\n",
    "sns.heatmap(cm, xticklabels=['predicted_pos', 'predicted_neg'], yticklabels=['actual_pos', 'actual_neg'], annot=True, fmt='d', annot_kws={'fontsize':20}, cmap=\"YlGnBu\");\n",
    "true_neg, false_pos = cm[0]\n",
    "false_neg, true_pos = cm[1]\n",
    "accuracy = round((true_pos + true_neg) / (true_pos + true_neg + false_pos + false_neg),3)\n",
    "precision = round((true_pos) / (true_pos + false_pos),3)\n",
    "recall = round((true_pos) / (true_pos + false_neg),3)\n",
    "f1 = round(2 * (precision * recall) / (precision + recall),3)\n",
    "print('Accuracy: {}'.format(accuracy))\n",
    "print('Precision: {}'.format(precision))\n",
    "print('Recall: {}'.format(recall))\n",
    "print('F1 Score: {}'.format(f1))"
   ]
  },
  {
   "cell_type": "markdown",
   "metadata": {},
   "source": [
    "### Comparing the accuracy for individual labels"
   ]
  },
  {
   "cell_type": "code",
   "execution_count": 14,
   "metadata": {},
   "outputs": [],
   "source": [
    "import scipy \n",
    "import scipy.sparse as sp\n",
    "from sklearn.metrics import classification_report\n",
    "from sklearn.metrics import  accuracy_score, confusion_matrix, classification_report\n",
    "import seaborn as sns"
   ]
  },
  {
   "cell_type": "code",
   "execution_count": 34,
   "metadata": {},
   "outputs": [
    {
     "name": "stdout",
     "output_type": "stream",
     "text": [
      "              precision    recall  f1-score   support\n",
      "\n",
      "           0       0.82      0.77      0.80     14216\n",
      "           1       0.74      0.80      0.77     11722\n",
      "\n",
      "    accuracy                           0.78     25938\n",
      "   macro avg       0.78      0.79      0.78     25938\n",
      "weighted avg       0.79      0.78      0.79     25938\n",
      "\n"
     ]
    }
   ],
   "source": [
    "print(classification_report(y_pred_tfv_nb,test['Party_log']))"
   ]
  },
  {
   "cell_type": "code",
   "execution_count": 35,
   "metadata": {},
   "outputs": [
    {
     "name": "stdout",
     "output_type": "stream",
     "text": [
      "              precision    recall  f1-score   support\n",
      "\n",
      "           0       0.79      0.74      0.76     14367\n",
      "           1       0.70      0.76      0.73     11571\n",
      "\n",
      "    accuracy                           0.75     25938\n",
      "   macro avg       0.75      0.75      0.75     25938\n",
      "weighted avg       0.75      0.75      0.75     25938\n",
      "\n"
     ]
    }
   ],
   "source": [
    "print(classification_report(y_pred_tfv_rfc,test['Party_log']))"
   ]
  },
  {
   "cell_type": "code",
   "execution_count": 36,
   "metadata": {},
   "outputs": [
    {
     "name": "stdout",
     "output_type": "stream",
     "text": [
      "              precision    recall  f1-score   support\n",
      "\n",
      "           0       0.80      0.78      0.79     13614\n",
      "           1       0.76      0.78      0.77     12324\n",
      "\n",
      "    accuracy                           0.78     25938\n",
      "   macro avg       0.78      0.78      0.78     25938\n",
      "weighted avg       0.78      0.78      0.78     25938\n",
      "\n"
     ]
    }
   ],
   "source": [
    "print(classification_report(y_pred_tfv_lr,test['Party_log']))"
   ]
  },
  {
   "cell_type": "code",
   "execution_count": 37,
   "metadata": {},
   "outputs": [
    {
     "name": "stdout",
     "output_type": "stream",
     "text": [
      "              precision    recall  f1-score   support\n",
      "\n",
      "           0       0.44      0.75      0.56      7837\n",
      "           1       0.84      0.59      0.69     18101\n",
      "\n",
      "    accuracy                           0.64     25938\n",
      "   macro avg       0.64      0.67      0.62     25938\n",
      "weighted avg       0.72      0.64      0.65     25938\n",
      "\n"
     ]
    }
   ],
   "source": [
    "print(classification_report(y_pred_tfv_ada,test['Party_log']))"
   ]
  },
  {
   "cell_type": "code",
   "execution_count": 16,
   "metadata": {},
   "outputs": [
    {
     "name": "stdout",
     "output_type": "stream",
     "text": [
      "              precision    recall  f1-score   support\n",
      "\n",
      "           0       0.97      0.56      0.71     23012\n",
      "           1       0.20      0.84      0.32      2926\n",
      "\n",
      "    accuracy                           0.59     25938\n",
      "   macro avg       0.58      0.70      0.51     25938\n",
      "weighted avg       0.88      0.59      0.66     25938\n",
      "\n"
     ]
    }
   ],
   "source": [
    "print(classification_report(y_pred__tfv_dtc,test['Party_log']))"
   ]
  }
 ],
 "metadata": {
  "kernelspec": {
   "display_name": "Python 3",
   "language": "python",
   "name": "python3"
  },
  "language_info": {
   "codemirror_mode": {
    "name": "ipython",
    "version": 3
   },
   "file_extension": ".py",
   "mimetype": "text/x-python",
   "name": "python",
   "nbconvert_exporter": "python",
   "pygments_lexer": "ipython3",
   "version": "3.8.3"
  }
 },
 "nbformat": 4,
 "nbformat_minor": 4
}
